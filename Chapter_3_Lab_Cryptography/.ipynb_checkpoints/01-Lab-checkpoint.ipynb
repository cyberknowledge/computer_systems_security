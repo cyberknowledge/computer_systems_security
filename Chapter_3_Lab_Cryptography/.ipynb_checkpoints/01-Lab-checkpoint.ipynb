{
 "cells": [
  {
   "cell_type": "markdown",
   "metadata": {},
   "source": [
    "# Computer and Network Security"
   ]
  },
  {
   "cell_type": "markdown",
   "metadata": {},
   "source": [
    "## Class 1 - Crypto Basics"
   ]
  },
  {
   "cell_type": "markdown",
   "metadata": {},
   "source": [
    "## Example 1: Caesar's Cipher - Encrypt"
   ]
  },
  {
   "cell_type": "code",
   "execution_count": 1,
   "metadata": {},
   "outputs": [],
   "source": [
    "import importlib\n",
    "import math\n",
    "import os\n",
    "import codecs\n",
    "\n",
    "import caesars as cs\n",
    "import double_transposition as dp\n",
    "import one_time_pad as otp\n",
    "\n",
    "#importlib.reload(encrypt)\n",
    "#importlib.reload(decrypt)"
   ]
  },
  {
   "cell_type": "code",
   "execution_count": 2,
   "metadata": {},
   "outputs": [
    {
     "name": "stdout",
     "output_type": "stream",
     "text": [
      "Plain Text : aliceinwonderland\n",
      "Shift pattern : 10\n",
      "Ciphertext: kvsmosxgyxnobvkxn\n"
     ]
    }
   ],
   "source": [
    "# Provide a plantext to encrypt\n",
    "text = \"aliceinwonderland\"\n",
    "\n",
    "# Shifting by . . .\n",
    "s = 10\n",
    "\n",
    "print (\"Plain Text : \" + text)\n",
    "print (\"Shift pattern : \" + str(s))\n",
    "print (\"Ciphertext: \" + cs.encrypt(text,s))"
   ]
  },
  {
   "cell_type": "markdown",
   "metadata": {},
   "source": [
    "## Example 2 - Caesar's Cipher - Decrypt"
   ]
  },
  {
   "cell_type": "code",
   "execution_count": 3,
   "metadata": {},
   "outputs": [
    {
     "name": "stdout",
     "output_type": "stream",
     "text": [
      "Ciphertext: fubswrlvixq\n",
      "Shift pattern : 3\n",
      "Plaintext : cryptoisfun\n"
     ]
    }
   ],
   "source": [
    "# Provide a ciphertext to decrypt\n",
    "ciphertext = \"fubswrlvixq\"\n",
    "\n",
    "# Shifting by . . .\n",
    "s = 3\n",
    "\n",
    "print (\"Ciphertext: \" + ciphertext)\n",
    "print (\"Shift pattern : \" + str(s))\n",
    "print (\"Plaintext : \" + cs.decrypt(ciphertext,s))"
   ]
  },
  {
   "cell_type": "markdown",
   "metadata": {},
   "source": [
    "## Example 3 - Hacking Caesar's Cipher"
   ]
  },
  {
   "cell_type": "code",
   "execution_count": 4,
   "metadata": {},
   "outputs": [
    {
     "name": "stdout",
     "output_type": "stream",
     "text": [
      "Key 0 - Plaintext: RkRkLkdyhehhqkdfnhg\n",
      "Key 1 - Plaintext: QjQjKjcxgdggpjcemgf\n",
      "Key 2 - Plaintext: PiPiJibwfcffoibdlfe\n",
      "Key 3 - Plaintext: OhOhIhavebeenhacked\n",
      "Key 4 - Plaintext: NgNgHgzudaddmgzbjdc\n",
      "Key 5 - Plaintext: MfMfGfytczcclfyaicb\n",
      "Key 6 - Plaintext: LeLeFexsbybbkexzhba\n",
      "Key 7 - Plaintext: KdKdEdwraxaajdwygaz\n",
      "Key 8 - Plaintext: JcJcDcvqzwzzicvxfzy\n",
      "Key 9 - Plaintext: IbIbCbupyvyyhbuweyx\n",
      "Key 10 - Plaintext: HaHaBatoxuxxgatvdxw\n",
      "Key 11 - Plaintext: GzGzAzsnwtwwfzsucwv\n",
      "Key 12 - Plaintext: FyFyZyrmvsvveyrtbvu\n",
      "Key 13 - Plaintext: ExExYxqluruudxqsaut\n",
      "Key 14 - Plaintext: DwDwXwpktqttcwprzts\n",
      "Key 15 - Plaintext: CvCvWvojspssbvoqysr\n",
      "Key 16 - Plaintext: BuBuVunirorraunpxrq\n",
      "Key 17 - Plaintext: AtAtUtmhqnqqztmowqp\n",
      "Key 18 - Plaintext: ZsZsTslgpmppyslnvpo\n",
      "Key 19 - Plaintext: YrYrSrkfolooxrkmuon\n",
      "Key 20 - Plaintext: XqXqRqjenknnwqjltnm\n",
      "Key 21 - Plaintext: WpWpQpidmjmmvpiksml\n",
      "Key 22 - Plaintext: VoVoPohclilluohjrlk\n",
      "Key 23 - Plaintext: UnUnOngbkhkktngiqkj\n",
      "Key 24 - Plaintext: TmTmNmfajgjjsmfhpji\n",
      "Key 25 - Plaintext: SlSlMlezifiirlegoih\n"
     ]
    }
   ],
   "source": [
    "# Provide a ciphertext to decrypt\n",
    "ciphertext = 'RkRkLkdyhehhqkdfnhg' #encrypted message\n",
    "\n",
    "# Bruteforce Attack - Try every available combination\n",
    "for i in range(0,26):\n",
    "    print(\"Key {} - Plaintext: {}\".format(i,cs.decrypt(ciphertext,i)))\n"
   ]
  },
  {
   "cell_type": "markdown",
   "metadata": {},
   "source": [
    "## Double Transposition"
   ]
  },
  {
   "cell_type": "code",
   "execution_count": 5,
   "metadata": {},
   "outputs": [
    {
     "name": "stdout",
     "output_type": "stream",
     "text": [
      "Encrypted Message: I ma rmdt ja ieaes\n",
      "Decryped Message: I am a jedi master\n"
     ]
    }
   ],
   "source": [
    "# Provide the plaintext\n",
    "plaintext = \"I am a jedi master\"\n",
    "\n",
    "# Define a Key\n",
    "key = \"Crypto\"\n",
    "\n",
    "# Encrypt\n",
    "ciphertext = dp.encryptMessage(plaintext,key)\n",
    "print(\"Encrypted Message: {}\".\n",
    "               format(ciphertext))\n",
    "\n",
    "# Decrypt\n",
    "print(\"Decryped Message: {}\".\n",
    "       format(dp.decryptMessage(ciphertext,key)))\n",
    "  \n",
    "# This code is contributed by Aditya K"
   ]
  },
  {
   "cell_type": "markdown",
   "metadata": {},
   "source": [
    "## One-Time Pad"
   ]
  },
  {
   "cell_type": "code",
   "execution_count": null,
   "metadata": {},
   "outputs": [],
   "source": [
    "# First lets define your plaintext\n",
    "plaintext= \"Is this safe?\"\n",
    "plaintext = plaintext.encode()\n",
    "\n",
    "# Generate a random key - Must have teh same lenght as the plaintext\n",
    "key = os.urandom(len(plaintext))\n",
    "print(\"Generated key: {}\".format(key))\n",
    "\n",
    "# Let's encode the plaintext\n",
    "ciphertext = otp.xor_bytes(plaintext, key)\n",
    "print(\"Generated Ciphertext: {}\".format(ciphertext))\n",
    "\n",
    "# Let's decode our ciphertext\n",
    "decoded = otp.xor_bytes(ciphertext, key)\n",
    "\n",
    "print(\"GDecoded text: {}\".format(decoded.decode()))\n"
   ]
  },
  {
   "cell_type": "code",
   "execution_count": null,
   "metadata": {},
   "outputs": [],
   "source": []
  }
 ],
 "metadata": {
  "kernelspec": {
   "display_name": "Python 3",
   "language": "python",
   "name": "python3"
  },
  "language_info": {
   "codemirror_mode": {
    "name": "ipython",
    "version": 3
   },
   "file_extension": ".py",
   "mimetype": "text/x-python",
   "name": "python",
   "nbconvert_exporter": "python",
   "pygments_lexer": "ipython3",
   "version": "3.6.9"
  }
 },
 "nbformat": 4,
 "nbformat_minor": 4
}
